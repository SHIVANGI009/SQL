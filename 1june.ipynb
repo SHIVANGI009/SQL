{
 "cells": [
  {
   "cell_type": "code",
   "execution_count": 2,
   "id": "fa29c8bc-7854-435b-9ab1-401eae7e260d",
   "metadata": {},
   "outputs": [],
   "source": [
    "# EDA ==> Exploratory Data Analysis\n",
    "# PARTS OF EDA\n",
    "# 1. UNIVARIATE ANALYSIS: SINGLE INDEPENDENT COLUMN\n",
    "# 2. BIVARIATE ANALYSIS: ANALYSIS ON TWO COLUMN\n",
    "# 3. MULTIVARIATE ANALYSIS: MORE THAN 2 COLUMNS\n",
    "# DATA TYPES\n",
    "# 1. NUMERICAL DATA \n",
    "# 2. CATEGORICAL DATA"
   ]
  },
  {
   "cell_type": "code",
   "execution_count": 8,
   "id": "875567a5-76e0-4060-a17d-db4c6a0a4f7c",
   "metadata": {},
   "outputs": [],
   "source": [
    "import numpy as np\n",
    "import pandas as pd"
   ]
  },
  {
   "cell_type": "code",
   "execution_count": 2,
   "id": "e9b132fd-f118-4917-ba2d-ffd195de4900",
   "metadata": {},
   "outputs": [],
   "source": [
    "import matplotlib.pyplot as plt \n",
    "import seaborn as sns "
   ]
  },
  {
   "cell_type": "code",
   "execution_count": 6,
   "id": "333ba666-d23d-422e-92c4-db7cb157fe5a",
   "metadata": {},
   "outputs": [
    {
     "name": "stdout",
     "output_type": "stream",
     "text": [
      "Collecting MatplotlibNote: you may need to restart the kernel to use updated packages.\n",
      "\n",
      "  Downloading matplotlib-3.9.0-cp312-cp312-win_amd64.whl.metadata (11 kB)\n",
      "Collecting contourpy>=1.0.1 (from Matplotlib)\n",
      "  Downloading contourpy-1.2.1-cp312-cp312-win_amd64.whl.metadata (5.8 kB)\n",
      "Collecting cycler>=0.10 (from Matplotlib)\n",
      "  Downloading cycler-0.12.1-py3-none-any.whl.metadata (3.8 kB)\n",
      "Collecting fonttools>=4.22.0 (from Matplotlib)\n",
      "  Downloading fonttools-4.53.0-cp312-cp312-win_amd64.whl.metadata (165 kB)\n",
      "     ---------------------------------------- 0.0/165.5 kB ? eta -:--:--\n",
      "     -- ------------------------------------- 10.2/165.5 kB ? eta -:--:--\n",
      "     --------- --------------------------- 41.0/165.5 kB 393.8 kB/s eta 0:00:01\n",
      "     ------------------ ------------------ 81.9/165.5 kB 657.6 kB/s eta 0:00:01\n",
      "     ------------------------ ----------- 112.6/165.5 kB 656.4 kB/s eta 0:00:01\n",
      "     -----------------------------------  163.8/165.5 kB 821.4 kB/s eta 0:00:01\n",
      "     ------------------------------------ 165.5/165.5 kB 708.9 kB/s eta 0:00:00\n",
      "Collecting kiwisolver>=1.3.1 (from Matplotlib)\n",
      "  Downloading kiwisolver-1.4.5-cp312-cp312-win_amd64.whl.metadata (6.5 kB)\n",
      "Requirement already satisfied: numpy>=1.23 in c:\\users\\shiva\\appdata\\local\\programs\\python\\python312\\lib\\site-packages (from Matplotlib) (1.26.4)\n",
      "Requirement already satisfied: packaging>=20.0 in c:\\users\\shiva\\appdata\\local\\programs\\python\\python312\\lib\\site-packages (from Matplotlib) (24.0)\n",
      "Collecting pillow>=8 (from Matplotlib)\n",
      "  Downloading pillow-10.3.0-cp312-cp312-win_amd64.whl.metadata (9.4 kB)\n",
      "Collecting pyparsing>=2.3.1 (from Matplotlib)\n",
      "  Downloading pyparsing-3.1.2-py3-none-any.whl.metadata (5.1 kB)\n",
      "Requirement already satisfied: python-dateutil>=2.7 in c:\\users\\shiva\\appdata\\local\\programs\\python\\python312\\lib\\site-packages (from Matplotlib) (2.9.0.post0)\n",
      "Requirement already satisfied: six>=1.5 in c:\\users\\shiva\\appdata\\local\\programs\\python\\python312\\lib\\site-packages (from python-dateutil>=2.7->Matplotlib) (1.16.0)\n",
      "Downloading matplotlib-3.9.0-cp312-cp312-win_amd64.whl (8.0 MB)\n",
      "   ---------------------------------------- 0.0/8.0 MB ? eta -:--:--\n",
      "   ---------------------------------------- 0.1/8.0 MB 2.6 MB/s eta 0:00:04\n",
      "    --------------------------------------- 0.1/8.0 MB 2.1 MB/s eta 0:00:04\n",
      "    --------------------------------------- 0.2/8.0 MB 1.5 MB/s eta 0:00:06\n",
      "   - -------------------------------------- 0.2/8.0 MB 1.3 MB/s eta 0:00:07\n",
      "   - -------------------------------------- 0.3/8.0 MB 1.4 MB/s eta 0:00:06\n",
      "   - -------------------------------------- 0.4/8.0 MB 1.3 MB/s eta 0:00:06\n",
      "   -- ------------------------------------- 0.4/8.0 MB 1.3 MB/s eta 0:00:06\n",
      "   -- ------------------------------------- 0.5/8.0 MB 1.4 MB/s eta 0:00:06\n",
      "   -- ------------------------------------- 0.6/8.0 MB 1.4 MB/s eta 0:00:06\n",
      "   --- ------------------------------------ 0.7/8.0 MB 1.5 MB/s eta 0:00:05\n",
      "   --- ------------------------------------ 0.8/8.0 MB 1.5 MB/s eta 0:00:05\n",
      "   ---- ----------------------------------- 0.8/8.0 MB 1.5 MB/s eta 0:00:05\n",
      "   ---- ----------------------------------- 0.9/8.0 MB 1.5 MB/s eta 0:00:05\n",
      "   ---- ----------------------------------- 1.0/8.0 MB 1.5 MB/s eta 0:00:05\n",
      "   ----- ---------------------------------- 1.1/8.0 MB 1.5 MB/s eta 0:00:05\n",
      "   ----- ---------------------------------- 1.2/8.0 MB 1.6 MB/s eta 0:00:05\n",
      "   ----- ---------------------------------- 1.2/8.0 MB 1.5 MB/s eta 0:00:05\n",
      "   ------ --------------------------------- 1.2/8.0 MB 1.5 MB/s eta 0:00:05\n",
      "   ------ --------------------------------- 1.3/8.0 MB 1.5 MB/s eta 0:00:05\n",
      "   ------ --------------------------------- 1.4/8.0 MB 1.5 MB/s eta 0:00:05\n",
      "   ------- -------------------------------- 1.5/8.0 MB 1.5 MB/s eta 0:00:05\n",
      "   ------- -------------------------------- 1.5/8.0 MB 1.5 MB/s eta 0:00:05\n",
      "   ------- -------------------------------- 1.6/8.0 MB 1.5 MB/s eta 0:00:05\n",
      "   -------- ------------------------------- 1.7/8.0 MB 1.5 MB/s eta 0:00:05\n",
      "   --------- ------------------------------ 1.9/8.0 MB 1.6 MB/s eta 0:00:04\n",
      "   --------- ------------------------------ 1.9/8.0 MB 1.6 MB/s eta 0:00:04\n",
      "   ---------- ----------------------------- 2.0/8.0 MB 1.6 MB/s eta 0:00:04\n",
      "   ---------- ----------------------------- 2.1/8.0 MB 1.6 MB/s eta 0:00:04\n",
      "   ---------- ----------------------------- 2.2/8.0 MB 1.6 MB/s eta 0:00:04\n",
      "   ----------- ---------------------------- 2.3/8.0 MB 1.6 MB/s eta 0:00:04\n",
      "   ----------- ---------------------------- 2.4/8.0 MB 1.6 MB/s eta 0:00:04\n",
      "   ------------ --------------------------- 2.4/8.0 MB 1.6 MB/s eta 0:00:04\n",
      "   ------------ --------------------------- 2.5/8.0 MB 1.6 MB/s eta 0:00:04\n",
      "   ------------- -------------------------- 2.6/8.0 MB 1.6 MB/s eta 0:00:04\n",
      "   ------------- -------------------------- 2.6/8.0 MB 1.6 MB/s eta 0:00:04\n",
      "   ------------- -------------------------- 2.7/8.0 MB 1.6 MB/s eta 0:00:04\n",
      "   ------------- -------------------------- 2.7/8.0 MB 1.5 MB/s eta 0:00:04\n",
      "   ------------- -------------------------- 2.8/8.0 MB 1.6 MB/s eta 0:00:04\n",
      "   -------------- ------------------------- 2.8/8.0 MB 1.5 MB/s eta 0:00:04\n",
      "   -------------- ------------------------- 2.8/8.0 MB 1.5 MB/s eta 0:00:04\n",
      "   -------------- ------------------------- 3.0/8.0 MB 1.5 MB/s eta 0:00:04\n",
      "   --------------- ------------------------ 3.0/8.0 MB 1.5 MB/s eta 0:00:04\n",
      "   --------------- ------------------------ 3.1/8.0 MB 1.5 MB/s eta 0:00:04\n",
      "   --------------- ------------------------ 3.2/8.0 MB 1.5 MB/s eta 0:00:04\n",
      "   ---------------- ----------------------- 3.2/8.0 MB 1.5 MB/s eta 0:00:04\n",
      "   ---------------- ----------------------- 3.2/8.0 MB 1.5 MB/s eta 0:00:04\n",
      "   ---------------- ----------------------- 3.3/8.0 MB 1.5 MB/s eta 0:00:04\n",
      "   ---------------- ----------------------- 3.3/8.0 MB 1.5 MB/s eta 0:00:04\n",
      "   ----------------- ---------------------- 3.4/8.0 MB 1.5 MB/s eta 0:00:04\n",
      "   ----------------- ---------------------- 3.4/8.0 MB 1.5 MB/s eta 0:00:04\n",
      "   ----------------- ---------------------- 3.5/8.0 MB 1.5 MB/s eta 0:00:04\n",
      "   ----------------- ---------------------- 3.5/8.0 MB 1.5 MB/s eta 0:00:04\n",
      "   ----------------- ---------------------- 3.6/8.0 MB 1.4 MB/s eta 0:00:04\n",
      "   ------------------ --------------------- 3.6/8.0 MB 1.4 MB/s eta 0:00:04\n",
      "   ------------------ --------------------- 3.7/8.0 MB 1.4 MB/s eta 0:00:03\n",
      "   ------------------ --------------------- 3.7/8.0 MB 1.4 MB/s eta 0:00:04\n",
      "   ------------------ --------------------- 3.7/8.0 MB 1.4 MB/s eta 0:00:04\n",
      "   ------------------ --------------------- 3.8/8.0 MB 1.4 MB/s eta 0:00:04\n",
      "   ------------------- -------------------- 3.8/8.0 MB 1.4 MB/s eta 0:00:04\n",
      "   ------------------- -------------------- 3.9/8.0 MB 1.4 MB/s eta 0:00:03\n",
      "   ------------------- -------------------- 4.0/8.0 MB 1.4 MB/s eta 0:00:03\n",
      "   -------------------- ------------------- 4.0/8.0 MB 1.4 MB/s eta 0:00:03\n",
      "   -------------------- ------------------- 4.1/8.0 MB 1.4 MB/s eta 0:00:03\n",
      "   -------------------- ------------------- 4.1/8.0 MB 1.4 MB/s eta 0:00:03\n",
      "   -------------------- ------------------- 4.2/8.0 MB 1.4 MB/s eta 0:00:03\n",
      "   --------------------- ------------------ 4.2/8.0 MB 1.4 MB/s eta 0:00:03\n",
      "   --------------------- ------------------ 4.3/8.0 MB 1.4 MB/s eta 0:00:03\n",
      "   ---------------------- ----------------- 4.4/8.0 MB 1.4 MB/s eta 0:00:03\n",
      "   ---------------------- ----------------- 4.5/8.0 MB 1.4 MB/s eta 0:00:03\n",
      "   ---------------------- ----------------- 4.6/8.0 MB 1.4 MB/s eta 0:00:03\n",
      "   ----------------------- ---------------- 4.6/8.0 MB 1.4 MB/s eta 0:00:03\n",
      "   ----------------------- ---------------- 4.7/8.0 MB 1.4 MB/s eta 0:00:03\n",
      "   ------------------------ --------------- 4.8/8.0 MB 1.4 MB/s eta 0:00:03\n",
      "   ------------------------ --------------- 4.9/8.0 MB 1.4 MB/s eta 0:00:03\n",
      "   ------------------------ --------------- 4.9/8.0 MB 1.4 MB/s eta 0:00:03\n",
      "   ------------------------- -------------- 5.0/8.0 MB 1.4 MB/s eta 0:00:03\n",
      "   ------------------------- -------------- 5.1/8.0 MB 1.4 MB/s eta 0:00:03\n",
      "   ------------------------- -------------- 5.2/8.0 MB 1.4 MB/s eta 0:00:03\n",
      "   -------------------------- ------------- 5.2/8.0 MB 1.4 MB/s eta 0:00:02\n",
      "   -------------------------- ------------- 5.3/8.0 MB 1.4 MB/s eta 0:00:02\n",
      "   -------------------------- ------------- 5.4/8.0 MB 1.4 MB/s eta 0:00:02\n",
      "   --------------------------- ------------ 5.5/8.0 MB 1.4 MB/s eta 0:00:02\n",
      "   ---------------------------- ----------- 5.7/8.0 MB 1.4 MB/s eta 0:00:02\n",
      "   ---------------------------- ----------- 5.7/8.0 MB 1.4 MB/s eta 0:00:02\n",
      "   ---------------------------- ----------- 5.8/8.0 MB 1.4 MB/s eta 0:00:02\n",
      "   ----------------------------- ---------- 5.9/8.0 MB 1.4 MB/s eta 0:00:02\n",
      "   ----------------------------- ---------- 5.9/8.0 MB 1.4 MB/s eta 0:00:02\n",
      "   ------------------------------ --------- 6.1/8.0 MB 1.4 MB/s eta 0:00:02\n",
      "   ------------------------------ --------- 6.1/8.0 MB 1.4 MB/s eta 0:00:02\n",
      "   ------------------------------ --------- 6.2/8.0 MB 1.4 MB/s eta 0:00:02\n",
      "   ------------------------------- -------- 6.2/8.0 MB 1.4 MB/s eta 0:00:02\n",
      "   ------------------------------- -------- 6.4/8.0 MB 1.4 MB/s eta 0:00:02\n",
      "   -------------------------------- ------- 6.5/8.0 MB 1.4 MB/s eta 0:00:02\n",
      "   -------------------------------- ------- 6.6/8.0 MB 1.4 MB/s eta 0:00:02\n",
      "   --------------------------------- ------ 6.6/8.0 MB 1.4 MB/s eta 0:00:01\n",
      "   --------------------------------- ------ 6.7/8.0 MB 1.4 MB/s eta 0:00:01\n",
      "   ---------------------------------- ----- 6.8/8.0 MB 1.4 MB/s eta 0:00:01\n",
      "   ---------------------------------- ----- 6.9/8.0 MB 1.4 MB/s eta 0:00:01\n",
      "   ----------------------------------- ---- 7.0/8.0 MB 1.4 MB/s eta 0:00:01\n",
      "   ----------------------------------- ---- 7.0/8.0 MB 1.4 MB/s eta 0:00:01\n",
      "   ------------------------------------ --- 7.4/8.0 MB 1.5 MB/s eta 0:00:01\n",
      "   ------------------------------------- -- 7.5/8.0 MB 1.5 MB/s eta 0:00:01\n",
      "   ------------------------------------- -- 7.5/8.0 MB 1.5 MB/s eta 0:00:01\n",
      "   -------------------------------------- - 7.6/8.0 MB 1.5 MB/s eta 0:00:01\n",
      "   -------------------------------------- - 7.8/8.0 MB 1.5 MB/s eta 0:00:01\n",
      "   ---------------------------------------  7.8/8.0 MB 1.5 MB/s eta 0:00:01\n",
      "   ---------------------------------------  8.0/8.0 MB 1.5 MB/s eta 0:00:01\n",
      "   ---------------------------------------  8.0/8.0 MB 1.5 MB/s eta 0:00:01\n",
      "   ---------------------------------------  8.0/8.0 MB 1.5 MB/s eta 0:00:01\n",
      "   ---------------------------------------- 8.0/8.0 MB 1.5 MB/s eta 0:00:00\n",
      "Downloading contourpy-1.2.1-cp312-cp312-win_amd64.whl (189 kB)\n",
      "   ---------------------------------------- 0.0/189.9 kB ? eta -:--:--\n",
      "   ----------------------- ---------------- 112.6/189.9 kB 3.2 MB/s eta 0:00:01\n",
      "   ------------------------------ --------- 143.4/189.9 kB 2.1 MB/s eta 0:00:01\n",
      "   ---------------------------------------- 189.9/189.9 kB 1.6 MB/s eta 0:00:00\n",
      "Downloading cycler-0.12.1-py3-none-any.whl (8.3 kB)\n",
      "Downloading fonttools-4.53.0-cp312-cp312-win_amd64.whl (2.2 MB)\n",
      "   ---------------------------------------- 0.0/2.2 MB ? eta -:--:--\n",
      "   - -------------------------------------- 0.1/2.2 MB 1.5 MB/s eta 0:00:02\n",
      "   -- ------------------------------------- 0.2/2.2 MB 1.6 MB/s eta 0:00:02\n",
      "   --- ------------------------------------ 0.2/2.2 MB 1.6 MB/s eta 0:00:02\n",
      "   ----- ---------------------------------- 0.3/2.2 MB 1.6 MB/s eta 0:00:02\n",
      "   ----- ---------------------------------- 0.3/2.2 MB 1.6 MB/s eta 0:00:02\n",
      "   ------ --------------------------------- 0.4/2.2 MB 1.3 MB/s eta 0:00:02\n",
      "   -------- ------------------------------- 0.4/2.2 MB 1.3 MB/s eta 0:00:02\n",
      "   -------- ------------------------------- 0.5/2.2 MB 1.3 MB/s eta 0:00:02\n",
      "   --------- ------------------------------ 0.5/2.2 MB 1.3 MB/s eta 0:00:02\n",
      "   ---------- ----------------------------- 0.6/2.2 MB 1.2 MB/s eta 0:00:02\n",
      "   ----------- ---------------------------- 0.6/2.2 MB 1.2 MB/s eta 0:00:02\n",
      "   ------------ --------------------------- 0.7/2.2 MB 1.2 MB/s eta 0:00:02\n",
      "   -------------- ------------------------- 0.8/2.2 MB 1.3 MB/s eta 0:00:02\n",
      "   --------------- ------------------------ 0.8/2.2 MB 1.3 MB/s eta 0:00:02\n",
      "   --------------- ------------------------ 0.8/2.2 MB 1.2 MB/s eta 0:00:02\n",
      "   --------------- ------------------------ 0.8/2.2 MB 1.2 MB/s eta 0:00:02\n",
      "   ---------------- ----------------------- 0.9/2.2 MB 1.2 MB/s eta 0:00:02\n",
      "   ----------------- ---------------------- 1.0/2.2 MB 1.1 MB/s eta 0:00:02\n",
      "   ----------------- ---------------------- 1.0/2.2 MB 1.1 MB/s eta 0:00:02\n",
      "   ------------------ --------------------- 1.0/2.2 MB 1.1 MB/s eta 0:00:02\n",
      "   ------------------- -------------------- 1.1/2.2 MB 1.1 MB/s eta 0:00:02\n",
      "   -------------------- ------------------- 1.1/2.2 MB 1.1 MB/s eta 0:00:02\n",
      "   --------------------- ------------------ 1.2/2.2 MB 1.0 MB/s eta 0:00:01\n",
      "   ---------------------- ----------------- 1.2/2.2 MB 1.1 MB/s eta 0:00:01\n",
      "   ----------------------- ---------------- 1.3/2.2 MB 1.1 MB/s eta 0:00:01\n",
      "   ----------------------- ---------------- 1.3/2.2 MB 1.1 MB/s eta 0:00:01\n",
      "   ------------------------- -------------- 1.4/2.2 MB 1.1 MB/s eta 0:00:01\n",
      "   -------------------------- ------------- 1.4/2.2 MB 1.1 MB/s eta 0:00:01\n",
      "   ---------------------------- ----------- 1.6/2.2 MB 1.1 MB/s eta 0:00:01\n",
      "   ----------------------------- ---------- 1.6/2.2 MB 1.1 MB/s eta 0:00:01\n",
      "   ------------------------------ --------- 1.7/2.2 MB 1.1 MB/s eta 0:00:01\n",
      "   ------------------------------ --------- 1.7/2.2 MB 1.1 MB/s eta 0:00:01\n",
      "   ------------------------------ --------- 1.7/2.2 MB 1.1 MB/s eta 0:00:01\n",
      "   ------------------------------- -------- 1.7/2.2 MB 1.1 MB/s eta 0:00:01\n",
      "   -------------------------------- ------- 1.8/2.2 MB 1.1 MB/s eta 0:00:01\n",
      "   --------------------------------- ------ 1.8/2.2 MB 1.1 MB/s eta 0:00:01\n",
      "   --------------------------------- ------ 1.9/2.2 MB 1.1 MB/s eta 0:00:01\n",
      "   ----------------------------------- ---- 1.9/2.2 MB 1.1 MB/s eta 0:00:01\n",
      "   ----------------------------------- ---- 2.0/2.2 MB 1.1 MB/s eta 0:00:01\n",
      "   ------------------------------------ --- 2.0/2.2 MB 1.1 MB/s eta 0:00:01\n",
      "   ------------------------------------- -- 2.1/2.2 MB 1.1 MB/s eta 0:00:01\n",
      "   ---------------------------------------  2.2/2.2 MB 1.1 MB/s eta 0:00:01\n",
      "   ---------------------------------------- 2.2/2.2 MB 1.1 MB/s eta 0:00:00\n",
      "Downloading kiwisolver-1.4.5-cp312-cp312-win_amd64.whl (56 kB)\n",
      "   ---------------------------------------- 0.0/56.0 kB ? eta -:--:--\n",
      "   ------------------------------------ --- 51.2/56.0 kB 1.3 MB/s eta 0:00:01\n",
      "   ---------------------------------------- 56.0/56.0 kB 738.1 kB/s eta 0:00:00\n",
      "Downloading pillow-10.3.0-cp312-cp312-win_amd64.whl (2.5 MB)\n",
      "   ---------------------------------------- 0.0/2.5 MB ? eta -:--:--\n",
      "   ---------------------------------------- 0.0/2.5 MB ? eta -:--:--\n",
      "    --------------------------------------- 0.0/2.5 MB 393.8 kB/s eta 0:00:07\n",
      "   - -------------------------------------- 0.1/2.5 MB 901.1 kB/s eta 0:00:03\n",
      "   --- ------------------------------------ 0.2/2.5 MB 1.4 MB/s eta 0:00:02\n",
      "   ----- ---------------------------------- 0.4/2.5 MB 1.6 MB/s eta 0:00:02\n",
      "   ------- -------------------------------- 0.5/2.5 MB 1.6 MB/s eta 0:00:02\n",
      "   -------- ------------------------------- 0.5/2.5 MB 1.6 MB/s eta 0:00:02\n",
      "   --------- ------------------------------ 0.6/2.5 MB 1.7 MB/s eta 0:00:02\n",
      "   ----------- ---------------------------- 0.7/2.5 MB 1.8 MB/s eta 0:00:02\n",
      "   ------------ --------------------------- 0.8/2.5 MB 1.7 MB/s eta 0:00:01\n",
      "   -------------- ------------------------- 0.9/2.5 MB 1.8 MB/s eta 0:00:01\n",
      "   --------------- ------------------------ 1.0/2.5 MB 1.8 MB/s eta 0:00:01\n",
      "   ---------------- ----------------------- 1.1/2.5 MB 1.8 MB/s eta 0:00:01\n",
      "   ------------------ --------------------- 1.2/2.5 MB 1.8 MB/s eta 0:00:01\n",
      "   ------------------- -------------------- 1.2/2.5 MB 1.8 MB/s eta 0:00:01\n",
      "   --------------------- ------------------ 1.4/2.5 MB 1.9 MB/s eta 0:00:01\n",
      "   ---------------------- ----------------- 1.5/2.5 MB 1.9 MB/s eta 0:00:01\n",
      "   ------------------------ --------------- 1.6/2.5 MB 1.9 MB/s eta 0:00:01\n",
      "   -------------------------- ------------- 1.6/2.5 MB 1.9 MB/s eta 0:00:01\n",
      "   --------------------------- ------------ 1.8/2.5 MB 1.9 MB/s eta 0:00:01\n",
      "   ----------------------------- ---------- 1.9/2.5 MB 1.9 MB/s eta 0:00:01\n",
      "   ------------------------------ --------- 1.9/2.5 MB 1.9 MB/s eta 0:00:01\n",
      "   --------------------------------- ------ 2.1/2.5 MB 2.0 MB/s eta 0:00:01\n",
      "   ----------------------------------- ---- 2.2/2.5 MB 2.0 MB/s eta 0:00:01\n",
      "   ------------------------------------ --- 2.3/2.5 MB 2.0 MB/s eta 0:00:01\n",
      "   -------------------------------------- - 2.5/2.5 MB 2.0 MB/s eta 0:00:01\n",
      "   ---------------------------------------  2.5/2.5 MB 2.0 MB/s eta 0:00:01\n",
      "   ---------------------------------------  2.5/2.5 MB 2.0 MB/s eta 0:00:01\n",
      "   ---------------------------------------- 2.5/2.5 MB 1.9 MB/s eta 0:00:00\n",
      "Downloading pyparsing-3.1.2-py3-none-any.whl (103 kB)\n",
      "   ---------------------------------------- 0.0/103.2 kB ? eta -:--:--\n",
      "   ---------------------------------------  102.4/103.2 kB 6.1 MB/s eta 0:00:01\n",
      "   ---------------------------------------- 103.2/103.2 kB 3.0 MB/s eta 0:00:00\n",
      "Installing collected packages: pyparsing, pillow, kiwisolver, fonttools, cycler, contourpy, Matplotlib\n",
      "Successfully installed Matplotlib-3.9.0 contourpy-1.2.1 cycler-0.12.1 fonttools-4.53.0 kiwisolver-1.4.5 pillow-10.3.0 pyparsing-3.1.2\n"
     ]
    }
   ],
   "source": [
    "pip install Matplotlib"
   ]
  },
  {
   "cell_type": "code",
   "execution_count": 7,
   "id": "bd8af154-fdd2-448a-b7da-50458dd0705d",
   "metadata": {},
   "outputs": [
    {
     "name": "stdout",
     "output_type": "stream",
     "text": [
      "Collecting seaborn\n",
      "  Downloading seaborn-0.13.2-py3-none-any.whl.metadata (5.4 kB)\n",
      "Requirement already satisfied: numpy!=1.24.0,>=1.20 in c:\\users\\shiva\\appdata\\local\\programs\\python\\python312\\lib\\site-packages (from seaborn) (1.26.4)\n",
      "Requirement already satisfied: pandas>=1.2 in c:\\users\\shiva\\appdata\\local\\programs\\python\\python312\\lib\\site-packages (from seaborn) (2.2.2)\n",
      "Requirement already satisfied: matplotlib!=3.6.1,>=3.4 in c:\\users\\shiva\\appdata\\local\\programs\\python\\python312\\lib\\site-packages (from seaborn) (3.9.0)\n",
      "Requirement already satisfied: contourpy>=1.0.1 in c:\\users\\shiva\\appdata\\local\\programs\\python\\python312\\lib\\site-packages (from matplotlib!=3.6.1,>=3.4->seaborn) (1.2.1)\n",
      "Requirement already satisfied: cycler>=0.10 in c:\\users\\shiva\\appdata\\local\\programs\\python\\python312\\lib\\site-packages (from matplotlib!=3.6.1,>=3.4->seaborn) (0.12.1)\n",
      "Requirement already satisfied: fonttools>=4.22.0 in c:\\users\\shiva\\appdata\\local\\programs\\python\\python312\\lib\\site-packages (from matplotlib!=3.6.1,>=3.4->seaborn) (4.53.0)\n",
      "Requirement already satisfied: kiwisolver>=1.3.1 in c:\\users\\shiva\\appdata\\local\\programs\\python\\python312\\lib\\site-packages (from matplotlib!=3.6.1,>=3.4->seaborn) (1.4.5)\n",
      "Requirement already satisfied: packaging>=20.0 in c:\\users\\shiva\\appdata\\local\\programs\\python\\python312\\lib\\site-packages (from matplotlib!=3.6.1,>=3.4->seaborn) (24.0)\n",
      "Requirement already satisfied: pillow>=8 in c:\\users\\shiva\\appdata\\local\\programs\\python\\python312\\lib\\site-packages (from matplotlib!=3.6.1,>=3.4->seaborn) (10.3.0)\n",
      "Requirement already satisfied: pyparsing>=2.3.1 in c:\\users\\shiva\\appdata\\local\\programs\\python\\python312\\lib\\site-packages (from matplotlib!=3.6.1,>=3.4->seaborn) (3.1.2)\n",
      "Requirement already satisfied: python-dateutil>=2.7 in c:\\users\\shiva\\appdata\\local\\programs\\python\\python312\\lib\\site-packages (from matplotlib!=3.6.1,>=3.4->seaborn) (2.9.0.post0)\n",
      "Requirement already satisfied: pytz>=2020.1 in c:\\users\\shiva\\appdata\\local\\programs\\python\\python312\\lib\\site-packages (from pandas>=1.2->seaborn) (2024.1)\n",
      "Requirement already satisfied: tzdata>=2022.7 in c:\\users\\shiva\\appdata\\local\\programs\\python\\python312\\lib\\site-packages (from pandas>=1.2->seaborn) (2024.1)\n",
      "Requirement already satisfied: six>=1.5 in c:\\users\\shiva\\appdata\\local\\programs\\python\\python312\\lib\\site-packages (from python-dateutil>=2.7->matplotlib!=3.6.1,>=3.4->seaborn) (1.16.0)\n",
      "Downloading seaborn-0.13.2-py3-none-any.whl (294 kB)\n",
      "   ---------------------------------------- 0.0/294.9 kB ? eta -:--:--\n",
      "   ---------------------------------------- 0.0/294.9 kB ? eta -:--:--\n",
      "   ---------------------------------------- 0.0/294.9 kB ? eta -:--:--\n",
      "   - -------------------------------------- 10.2/294.9 kB ? eta -:--:--\n",
      "   ----- --------------------------------- 41.0/294.9 kB 393.8 kB/s eta 0:00:01\n",
      "   -------- ------------------------------ 61.4/294.9 kB 465.5 kB/s eta 0:00:01\n",
      "   -------- ------------------------------ 61.4/294.9 kB 465.5 kB/s eta 0:00:01\n",
      "   -------------- ----------------------- 112.6/294.9 kB 544.7 kB/s eta 0:00:01\n",
      "   -------------- ----------------------- 112.6/294.9 kB 544.7 kB/s eta 0:00:01\n",
      "   ------------------------- ------------ 194.6/294.9 kB 588.9 kB/s eta 0:00:01\n",
      "   ----------------------------- -------- 225.3/294.9 kB 597.3 kB/s eta 0:00:01\n",
      "   ----------------------------- -------- 225.3/294.9 kB 597.3 kB/s eta 0:00:01\n",
      "   -------------------------------- ----- 256.0/294.9 kB 582.4 kB/s eta 0:00:01\n",
      "   ---------------------------------- --- 266.2/294.9 kB 512.0 kB/s eta 0:00:01\n",
      "   -------------------------------------- 294.9/294.9 kB 535.1 kB/s eta 0:00:00\n",
      "Installing collected packages: seaborn\n",
      "Successfully installed seaborn-0.13.2\n",
      "Note: you may need to restart the kernel to use updated packages.\n"
     ]
    }
   ],
   "source": [
    "pip install seaborn"
   ]
  },
  {
   "cell_type": "code",
   "execution_count": 11,
   "id": "faa5c3e6-d4bc-4e9e-9199-6fa56e105b2c",
   "metadata": {},
   "outputs": [
    {
     "data": {
      "text/html": [
       "<div>\n",
       "<style scoped>\n",
       "    .dataframe tbody tr th:only-of-type {\n",
       "        vertical-align: middle;\n",
       "    }\n",
       "\n",
       "    .dataframe tbody tr th {\n",
       "        vertical-align: top;\n",
       "    }\n",
       "\n",
       "    .dataframe thead th {\n",
       "        text-align: right;\n",
       "    }\n",
       "</style>\n",
       "<table border=\"1\" class=\"dataframe\">\n",
       "  <thead>\n",
       "    <tr style=\"text-align: right;\">\n",
       "      <th></th>\n",
       "      <th>PassengerId</th>\n",
       "      <th>Survived</th>\n",
       "      <th>Pclass</th>\n",
       "      <th>Name</th>\n",
       "      <th>Sex</th>\n",
       "      <th>Age</th>\n",
       "      <th>SibSp</th>\n",
       "      <th>Parch</th>\n",
       "      <th>Ticket</th>\n",
       "      <th>Fare</th>\n",
       "      <th>Cabin</th>\n",
       "      <th>Embarked</th>\n",
       "    </tr>\n",
       "  </thead>\n",
       "  <tbody>\n",
       "    <tr>\n",
       "      <th>0</th>\n",
       "      <td>892</td>\n",
       "      <td>0</td>\n",
       "      <td>3</td>\n",
       "      <td>Kelly, Mr. James</td>\n",
       "      <td>male</td>\n",
       "      <td>34.5</td>\n",
       "      <td>0</td>\n",
       "      <td>0</td>\n",
       "      <td>330911</td>\n",
       "      <td>7.8292</td>\n",
       "      <td>NaN</td>\n",
       "      <td>Q</td>\n",
       "    </tr>\n",
       "    <tr>\n",
       "      <th>1</th>\n",
       "      <td>893</td>\n",
       "      <td>1</td>\n",
       "      <td>3</td>\n",
       "      <td>Wilkes, Mrs. James (Ellen Needs)</td>\n",
       "      <td>female</td>\n",
       "      <td>47.0</td>\n",
       "      <td>1</td>\n",
       "      <td>0</td>\n",
       "      <td>363272</td>\n",
       "      <td>7.0000</td>\n",
       "      <td>NaN</td>\n",
       "      <td>S</td>\n",
       "    </tr>\n",
       "    <tr>\n",
       "      <th>2</th>\n",
       "      <td>894</td>\n",
       "      <td>0</td>\n",
       "      <td>2</td>\n",
       "      <td>Myles, Mr. Thomas Francis</td>\n",
       "      <td>male</td>\n",
       "      <td>62.0</td>\n",
       "      <td>0</td>\n",
       "      <td>0</td>\n",
       "      <td>240276</td>\n",
       "      <td>9.6875</td>\n",
       "      <td>NaN</td>\n",
       "      <td>Q</td>\n",
       "    </tr>\n",
       "    <tr>\n",
       "      <th>3</th>\n",
       "      <td>895</td>\n",
       "      <td>0</td>\n",
       "      <td>3</td>\n",
       "      <td>Wirz, Mr. Albert</td>\n",
       "      <td>male</td>\n",
       "      <td>27.0</td>\n",
       "      <td>0</td>\n",
       "      <td>0</td>\n",
       "      <td>315154</td>\n",
       "      <td>8.6625</td>\n",
       "      <td>NaN</td>\n",
       "      <td>S</td>\n",
       "    </tr>\n",
       "    <tr>\n",
       "      <th>4</th>\n",
       "      <td>896</td>\n",
       "      <td>1</td>\n",
       "      <td>3</td>\n",
       "      <td>Hirvonen, Mrs. Alexander (Helga E Lindqvist)</td>\n",
       "      <td>female</td>\n",
       "      <td>22.0</td>\n",
       "      <td>1</td>\n",
       "      <td>1</td>\n",
       "      <td>3101298</td>\n",
       "      <td>12.2875</td>\n",
       "      <td>NaN</td>\n",
       "      <td>S</td>\n",
       "    </tr>\n",
       "  </tbody>\n",
       "</table>\n",
       "</div>"
      ],
      "text/plain": [
       "   PassengerId  Survived  Pclass  \\\n",
       "0          892         0       3   \n",
       "1          893         1       3   \n",
       "2          894         0       2   \n",
       "3          895         0       3   \n",
       "4          896         1       3   \n",
       "\n",
       "                                           Name     Sex   Age  SibSp  Parch  \\\n",
       "0                              Kelly, Mr. James    male  34.5      0      0   \n",
       "1              Wilkes, Mrs. James (Ellen Needs)  female  47.0      1      0   \n",
       "2                     Myles, Mr. Thomas Francis    male  62.0      0      0   \n",
       "3                              Wirz, Mr. Albert    male  27.0      0      0   \n",
       "4  Hirvonen, Mrs. Alexander (Helga E Lindqvist)  female  22.0      1      1   \n",
       "\n",
       "    Ticket     Fare Cabin Embarked  \n",
       "0   330911   7.8292   NaN        Q  \n",
       "1   363272   7.0000   NaN        S  \n",
       "2   240276   9.6875   NaN        Q  \n",
       "3   315154   8.6625   NaN        S  \n",
       "4  3101298  12.2875   NaN        S  "
      ]
     },
     "execution_count": 11,
     "metadata": {},
     "output_type": "execute_result"
    }
   ],
   "source": [
    "df=pd.read_csv(\"C:\\\\Users\\\\shiva\\\\OneDrive\\\\Desktop\\\\sv\\\\titanic.csv\")\n",
    "df.head()"
   ]
  },
  {
   "cell_type": "code",
   "execution_count": 14,
   "id": "2c1efeed-118c-4c8a-a0fe-d3290d4397aa",
   "metadata": {},
   "outputs": [
    {
     "data": {
      "text/plain": [
       "Index(['PassengerId', 'Survived', 'Pclass', 'Name', 'Sex', 'Age', 'SibSp',\n",
       "       'Parch', 'Ticket', 'Fare', 'Cabin', 'Embarked'],\n",
       "      dtype='object')"
      ]
     },
     "execution_count": 14,
     "metadata": {},
     "output_type": "execute_result"
    }
   ],
   "source": [
    "# UNIVARIATE ANALYSIS\n",
    "\n",
    "df.columns"
   ]
  },
  {
   "cell_type": "code",
   "execution_count": 15,
   "id": "93e7e9cb-714d-43d6-9c08-f9a544d5454a",
   "metadata": {},
   "outputs": [
    {
     "data": {
      "text/plain": [
       "<Axes: ylabel='count'>"
      ]
     },
     "execution_count": 15,
     "metadata": {},
     "output_type": "execute_result"
    },
    {
     "data": {
      "image/png": "[encoded data removed]",
      "text/plain": [
       "<Figure size 640x480 with 1 Axes>"
      ]
     },
     "metadata": {},
     "output_type": "display_data"
    }
   ],
   "source": [
    "sns.countplot(df['Survived'])"
   ]
  },
  {
   "cell_type": "code",
   "execution_count": 16,
   "id": "58e3481f-cb4e-450d-9d7d-bef19615d2eb",
   "metadata": {},
   "outputs": [
    {
     "data": {
      "text/plain": [
       "Survived\n",
       "0    266\n",
       "1    152\n",
       "Name: count, dtype: int64"
      ]
     },
     "execution_count": 16,
     "metadata": {},
     "output_type": "execute_result"
    }
   ],
   "source": [
    "# if we want to see actual values then we use value_counts()\n",
    "df['Survived'].value_counts()"
   ]
  },
  {
   "cell_type": "code",
   "execution_count": 17,
   "id": "5bfbd1ba-782d-45a0-8f81-9448654ee827",
   "metadata": {},
   "outputs": [
    {
     "data": {
      "text/plain": [
       "<Axes: xlabel='Survived'>"
      ]
     },
     "execution_count": 17,
     "metadata": {},
     "output_type": "execute_result"
    },
    {
     "data": {
      "image/png": "[encoded data removed]",
      "text/plain": [
       "<Figure size 640x480 with 1 Axes>"
      ]
     },
     "metadata": {},
     "output_type": "display_data"
    }
   ],
   "source": [
    "df['Survived'].value_counts().plot(kind = 'bar')"
   ]
  },
  {
   "cell_type": "code",
   "execution_count": 19,
   "id": "269d094e-c3d3-418f-9606-0a1f74fefd70",
   "metadata": {},
   "outputs": [
    {
     "data": {
      "text/plain": [
       "<Axes: ylabel='count'>"
      ]
     },
     "execution_count": 19,
     "metadata": {},
     "output_type": "execute_result"
    },
    {
     "data": {
      "image/png": "[encoded data removed]",
      "text/plain": [
       "<Figure size 640x480 with 1 Axes>"
      ]
     },
     "metadata": {},
     "output_type": "display_data"
    }
   ],
   "source": [
    "# if we want to check for column Pclass then\n",
    "sns.countplot(df['Pclass'])"
   ]
  },
  {
   "cell_type": "code",
   "execution_count": 20,
   "id": "f4b2de92-97cb-4dc8-b7f9-95dc2b7c4ff7",
   "metadata": {},
   "outputs": [
    {
     "data": {
      "text/plain": [
       "Pclass\n",
       "3    218\n",
       "1    107\n",
       "2     93\n",
       "Name: count, dtype: int64"
      ]
     },
     "execution_count": 20,
     "metadata": {},
     "output_type": "execute_result"
    }
   ],
   "source": [
    "df['Pclass'].value_counts()"
   ]
  },
  {
   "cell_type": "code",
   "execution_count": 22,
   "id": "a9803f74-ff7e-452c-b76e-1c2029aaf5fa",
   "metadata": {},
   "outputs": [
    {
     "data": {
      "text/plain": [
       "<Axes: ylabel='count'>"
      ]
     },
     "execution_count": 22,
     "metadata": {},
     "output_type": "execute_result"
    },
    {
     "data": {
      "image/png": "[encoded data removed]",
      "text/plain": [
       "<Figure size 640x480 with 1 Axes>"
      ]
     },
     "metadata": {},
     "output_type": "display_data"
    }
   ],
   "source": [
    "# IF WE WANT TO FIND OUT PERCENTAGE THEN USE PIECHART\n",
    "df['Survived'].value_counts().plot(kind = 'pie',autopct = '%.2f')"
   ]
  },
  {
   "cell_type": "code",
   "execution_count": 23,
   "id": "b187c76d-2f7b-4084-adf4-b6cf8ab8cc67",
   "metadata": {},
   "outputs": [
    {
     "data": {
      "text/plain": [
       "(array([16., 16., 71., 97., 43., 37., 25., 17.,  9.,  1.]),\n",
       " array([ 0.17 ,  7.753, 15.336, 22.919, 30.502, 38.085, 45.668, 53.251,\n",
       "        60.834, 68.417, 76.   ]),\n",
       " <BarContainer object of 10 artists>)"
      ]
     },
     "execution_count": 23,
     "metadata": {},
     "output_type": "execute_result"
    },
    {
     "data": {
      "image/png": "[encoded data removed]",
      "text/plain": [
       "<Figure size 640x480 with 1 Axes>"
      ]
     },
     "metadata": {},
     "output_type": "display_data"
    }
   ],
   "source": [
    "# if we have numerical data then we use histogram\n",
    "# because it finds the distribution\n",
    "plt.hist(df['Age'])"
   ]
  },
  {
   "cell_type": "code",
   "execution_count": 24,
   "id": "b416966f-e719-4864-bb84-3ee1bb6158dc",
   "metadata": {},
   "outputs": [
    {
     "name": "stderr",
     "output_type": "stream",
     "text": [
      "C:\\Users\\shiva\\AppData\\Local\\Temp\\ipykernel_5864\\1508340792.py:4: UserWarning: \n",
      "\n",
      "`distplot` is a deprecated function and will be removed in seaborn v0.14.0.\n",
      "\n",
      "Please adapt your code to use either `displot` (a figure-level function with\n",
      "similar flexibility) or `histplot` (an axes-level function for histograms).\n",
      "\n",
      "For a guide to updating your code to use the new functions, please see\n",
      "https://gist.github.com/mwaskom/de44147ed2974457ad6372750bbe5751\n",
      "\n",
      "  sns.distplot(df['Age'])\n"
     ]
    },
    {
     "data": {
      "text/plain": [
       "<Axes: xlabel='Age', ylabel='Density'>"
      ]
     },
     "execution_count": 24,
     "metadata": {},
     "output_type": "execute_result"
    },
    {
     "data": {
      "image/png": "[encoded data removed]",
      "text/plain": [
       "<Figure size 640x480 with 1 Axes>"
      ]
     },
     "metadata": {},
     "output_type": "display_data"
    }
   ],
   "source": [
    "# 2. DISTPLOT\n",
    "# CURVE ==> KDE(KERNAL DENSITY EXTRACTION)\n",
    "# USE FOR FIND PROBABILTY\n",
    "sns.distplot(df['Age'])"
   ]
  },
  {
   "cell_type": "code",
   "execution_count": 25,
   "id": "9f6237ce-51e4-4d79-857e-28ee1eaa482f",
   "metadata": {},
   "outputs": [
    {
     "name": "stderr",
     "output_type": "stream",
     "text": [
      "C:\\Users\\shiva\\AppData\\Local\\Temp\\ipykernel_5864\\43512197.py:1: UserWarning: \n",
      "\n",
      "`distplot` is a deprecated function and will be removed in seaborn v0.14.0.\n",
      "\n",
      "Please adapt your code to use either `displot` (a figure-level function with\n",
      "similar flexibility) or `kdeplot` (an axes-level function for kernel density plots).\n",
      "\n",
      "For a guide to updating your code to use the new functions, please see\n",
      "https://gist.github.com/mwaskom/de44147ed2974457ad6372750bbe5751\n",
      "\n",
      "  sns.distplot(df['Age'],hist=False)\n"
     ]
    },
    {
     "data": {
      "text/plain": [
       "<Axes: xlabel='Age', ylabel='Density'>"
      ]
     },
     "execution_count": 25,
     "metadata": {},
     "output_type": "execute_result"
    },
    {
     "data": {
      "image/png": "[encoded data removed]",
      "text/plain": [
       "<Figure size 640x480 with 1 Axes>"
      ]
     },
     "metadata": {},
     "output_type": "display_data"
    }
   ],
   "source": [
    "sns.distplot(df['Age'],hist=False)"
   ]
  },
  {
   "cell_type": "code",
   "execution_count": 26,
   "id": "77850bad-2376-4fe7-a06d-2267c4d1f319",
   "metadata": {},
   "outputs": [
    {
     "data": {
      "text/plain": [
       "<Axes: ylabel='Age'>"
      ]
     },
     "execution_count": 26,
     "metadata": {},
     "output_type": "execute_result"
    },
    {
     "data": {
      "image/png": "[encoded data removed]",
      "text/plain": [
       "<Figure size 640x480 with 1 Axes>"
      ]
     },
     "metadata": {},
     "output_type": "display_data"
    }
   ],
   "source": [
    "# 3. Boxplot\n",
    "# for find outliers\n",
    "# 1. lower fence\n",
    "# 2. 25% data\n",
    "# 3. IQR(inter quartile range)(75%=25%)\n",
    "# 4. 75% data\n",
    "# 5. upper fence\n",
    "sns.boxplot(df['Age'])"
   ]
  },
  {
   "cell_type": "code",
   "execution_count": 27,
   "id": "1e7e9db7-a072-4ca7-a3a4-4b3a8c06acf7",
   "metadata": {},
   "outputs": [
    {
     "data": {
      "text/plain": [
       "<Axes: ylabel='Fare'>"
      ]
     },
     "execution_count": 27,
     "metadata": {},
     "output_type": "execute_result"
    },
    {
     "data": {
      "image/png": "[encoded data removed]",
      "text/plain": [
       "<Figure size 640x480 with 1 Axes>"
      ]
     },
     "metadata": {},
     "output_type": "display_data"
    }
   ],
   "source": [
    "sns.boxplot(df['Fare'])"
   ]
  },
  {
   "cell_type": "code",
   "execution_count": 29,
   "id": "cc1f03b6-a0bf-4957-8ea1-77c0ff169424",
   "metadata": {},
   "outputs": [
    {
     "data": {
      "text/html": [
       "<div>\n",
       "<style scoped>\n",
       "    .dataframe tbody tr th:only-of-type {\n",
       "        vertical-align: middle;\n",
       "    }\n",
       "\n",
       "    .dataframe tbody tr th {\n",
       "        vertical-align: top;\n",
       "    }\n",
       "\n",
       "    .dataframe thead th {\n",
       "        text-align: right;\n",
       "    }\n",
       "</style>\n",
       "<table border=\"1\" class=\"dataframe\">\n",
       "  <thead>\n",
       "    <tr style=\"text-align: right;\">\n",
       "      <th></th>\n",
       "      <th>total_bill</th>\n",
       "      <th>tip</th>\n",
       "      <th>sex</th>\n",
       "      <th>smoker</th>\n",
       "      <th>day</th>\n",
       "      <th>time</th>\n",
       "      <th>size</th>\n",
       "    </tr>\n",
       "  </thead>\n",
       "  <tbody>\n",
       "    <tr>\n",
       "      <th>0</th>\n",
       "      <td>16.99</td>\n",
       "      <td>1.01</td>\n",
       "      <td>Female</td>\n",
       "      <td>No</td>\n",
       "      <td>Sun</td>\n",
       "      <td>Dinner</td>\n",
       "      <td>2</td>\n",
       "    </tr>\n",
       "    <tr>\n",
       "      <th>1</th>\n",
       "      <td>10.34</td>\n",
       "      <td>1.66</td>\n",
       "      <td>Male</td>\n",
       "      <td>No</td>\n",
       "      <td>Sun</td>\n",
       "      <td>Dinner</td>\n",
       "      <td>3</td>\n",
       "    </tr>\n",
       "    <tr>\n",
       "      <th>2</th>\n",
       "      <td>21.01</td>\n",
       "      <td>3.50</td>\n",
       "      <td>Male</td>\n",
       "      <td>No</td>\n",
       "      <td>Sun</td>\n",
       "      <td>Dinner</td>\n",
       "      <td>3</td>\n",
       "    </tr>\n",
       "    <tr>\n",
       "      <th>3</th>\n",
       "      <td>23.68</td>\n",
       "      <td>3.31</td>\n",
       "      <td>Male</td>\n",
       "      <td>No</td>\n",
       "      <td>Sun</td>\n",
       "      <td>Dinner</td>\n",
       "      <td>2</td>\n",
       "    </tr>\n",
       "    <tr>\n",
       "      <th>4</th>\n",
       "      <td>24.59</td>\n",
       "      <td>3.61</td>\n",
       "      <td>Female</td>\n",
       "      <td>No</td>\n",
       "      <td>Sun</td>\n",
       "      <td>Dinner</td>\n",
       "      <td>4</td>\n",
       "    </tr>\n",
       "    <tr>\n",
       "      <th>...</th>\n",
       "      <td>...</td>\n",
       "      <td>...</td>\n",
       "      <td>...</td>\n",
       "      <td>...</td>\n",
       "      <td>...</td>\n",
       "      <td>...</td>\n",
       "      <td>...</td>\n",
       "    </tr>\n",
       "    <tr>\n",
       "      <th>239</th>\n",
       "      <td>29.03</td>\n",
       "      <td>5.92</td>\n",
       "      <td>Male</td>\n",
       "      <td>No</td>\n",
       "      <td>Sat</td>\n",
       "      <td>Dinner</td>\n",
       "      <td>3</td>\n",
       "    </tr>\n",
       "    <tr>\n",
       "      <th>240</th>\n",
       "      <td>27.18</td>\n",
       "      <td>2.00</td>\n",
       "      <td>Female</td>\n",
       "      <td>Yes</td>\n",
       "      <td>Sat</td>\n",
       "      <td>Dinner</td>\n",
       "      <td>2</td>\n",
       "    </tr>\n",
       "    <tr>\n",
       "      <th>241</th>\n",
       "      <td>22.67</td>\n",
       "      <td>2.00</td>\n",
       "      <td>Male</td>\n",
       "      <td>Yes</td>\n",
       "      <td>Sat</td>\n",
       "      <td>Dinner</td>\n",
       "      <td>2</td>\n",
       "    </tr>\n",
       "    <tr>\n",
       "      <th>242</th>\n",
       "      <td>17.82</td>\n",
       "      <td>1.75</td>\n",
       "      <td>Male</td>\n",
       "      <td>No</td>\n",
       "      <td>Sat</td>\n",
       "      <td>Dinner</td>\n",
       "      <td>2</td>\n",
       "    </tr>\n",
       "    <tr>\n",
       "      <th>243</th>\n",
       "      <td>18.78</td>\n",
       "      <td>3.00</td>\n",
       "      <td>Female</td>\n",
       "      <td>No</td>\n",
       "      <td>Thur</td>\n",
       "      <td>Dinner</td>\n",
       "      <td>2</td>\n",
       "    </tr>\n",
       "  </tbody>\n",
       "</table>\n",
       "<p>244 rows × 7 columns</p>\n",
       "</div>"
      ],
      "text/plain": [
       "     total_bill   tip     sex smoker   day    time  size\n",
       "0         16.99  1.01  Female     No   Sun  Dinner     2\n",
       "1         10.34  1.66    Male     No   Sun  Dinner     3\n",
       "2         21.01  3.50    Male     No   Sun  Dinner     3\n",
       "3         23.68  3.31    Male     No   Sun  Dinner     2\n",
       "4         24.59  3.61  Female     No   Sun  Dinner     4\n",
       "..          ...   ...     ...    ...   ...     ...   ...\n",
       "239       29.03  5.92    Male     No   Sat  Dinner     3\n",
       "240       27.18  2.00  Female    Yes   Sat  Dinner     2\n",
       "241       22.67  2.00    Male    Yes   Sat  Dinner     2\n",
       "242       17.82  1.75    Male     No   Sat  Dinner     2\n",
       "243       18.78  3.00  Female     No  Thur  Dinner     2\n",
       "\n",
       "[244 rows x 7 columns]"
      ]
     },
     "execution_count": 29,
     "metadata": {},
     "output_type": "execute_result"
    }
   ],
   "source": [
    "tips = sns.load_dataset('tips')\n",
    "tips"
   ]
  },
  {
   "cell_type": "code",
   "execution_count": 33,
   "id": "c48db25b-3290-4036-a3fb-5065be06c4b6",
   "metadata": {},
   "outputs": [
    {
     "ename": "TypeError",
     "evalue": "scatterplot() takes from 0 to 1 positional arguments but 2 were given",
     "output_type": "error",
     "traceback": [
      "\u001b[1;31m---------------------------------------------------------------------------\u001b[0m",
      "\u001b[1;31mTypeError\u001b[0m                                 Traceback (most recent call last)",
      "Cell \u001b[1;32mIn[33], line 3\u001b[0m\n\u001b[0;32m      1\u001b[0m \u001b[38;5;66;03m# BIVARIATE ANALYSIS\u001b[39;00m\n\u001b[0;32m      2\u001b[0m \u001b[38;5;66;03m# 1. SCATTERPLOT(NUMERICAL COLUMN-NUMERICAL COLUMN)\u001b[39;00m\n\u001b[1;32m----> 3\u001b[0m \u001b[43msns\u001b[49m\u001b[38;5;241;43m.\u001b[39;49m\u001b[43mscatterplot\u001b[49m\u001b[43m(\u001b[49m\u001b[43mtips\u001b[49m\u001b[43m[\u001b[49m\u001b[38;5;124;43m'\u001b[39;49m\u001b[38;5;124;43mtotal_bill\u001b[39;49m\u001b[38;5;124;43m'\u001b[39;49m\u001b[43m]\u001b[49m\u001b[43m \u001b[49m\u001b[43m,\u001b[49m\u001b[43m \u001b[49m\u001b[43mtips\u001b[49m\u001b[43m[\u001b[49m\u001b[38;5;124;43m'\u001b[39;49m\u001b[38;5;124;43mtip\u001b[39;49m\u001b[38;5;124;43m'\u001b[39;49m\u001b[43m]\u001b[49m\u001b[43m)\u001b[49m\n",
      "\u001b[1;31mTypeError\u001b[0m: scatterplot() takes from 0 to 1 positional arguments but 2 were given"
     ]
    }
   ],
   "source": [
    "# BIVARIATE ANALYSIS\n",
    "# 1. SCATTERPLOT(NUMERICAL COLUMN-NUMERICAL COLUMN)\n",
    "sns.scatterplot(tips['total_bill'] , tips['tip'])"
   ]
  },
  {
   "cell_type": "code",
   "execution_count": 4,
   "id": "c1f7fc9d-dd14-45d6-bc60-dcbf49ab4af3",
   "metadata": {},
   "outputs": [
    {
     "ename": "NameError",
     "evalue": "name 'tips' is not defined",
     "output_type": "error",
     "traceback": [
      "\u001b[1;31m---------------------------------------------------------------------------\u001b[0m",
      "\u001b[1;31mNameError\u001b[0m                                 Traceback (most recent call last)",
      "Cell \u001b[1;32mIn[4], line 1\u001b[0m\n\u001b[1;32m----> 1\u001b[0m sns\u001b[38;5;241m.\u001b[39mscatterplot(\u001b[43mtips\u001b[49m[\u001b[38;5;124m'\u001b[39m\u001b[38;5;124mtotal_bill\u001b[39m\u001b[38;5;124m'\u001b[39m] , tips[\u001b[38;5;124m'\u001b[39m\u001b[38;5;124mtip\u001b[39m\u001b[38;5;124m'\u001b[39m] , hue \u001b[38;5;241m=\u001b[39m tips[\u001b[38;5;124m'\u001b[39m\u001b[38;5;124msex\u001b[39m\u001b[38;5;124m'\u001b[39m])\n",
      "\u001b[1;31mNameError\u001b[0m: name 'tips' is not defined"
     ]
    }
   ],
   "source": [
    "sns.scatterplot(tips['total_bill'] , tips['tip'] , hue = tips['sex'])"
   ]
  },
  {
   "cell_type": "code",
   "execution_count": 7,
   "id": "3d2f6c60-e599-4f3a-b2e6-520633047699",
   "metadata": {},
   "outputs": [
    {
     "ename": "NameError",
     "evalue": "name 'tips' is not defined",
     "output_type": "error",
     "traceback": [
      "\u001b[1;31m---------------------------------------------------------------------------\u001b[0m",
      "\u001b[1;31mNameError\u001b[0m                                 Traceback (most recent call last)",
      "Cell \u001b[1;32mIn[7], line 1\u001b[0m\n\u001b[1;32m----> 1\u001b[0m sns\u001b[38;5;241m.\u001b[39mscatterplot(x\u001b[38;5;241m=\u001b[39m\u001b[38;5;124m\"\u001b[39m\u001b[38;5;124mtotal_bill\u001b[39m\u001b[38;5;124m\"\u001b[39m, y\u001b[38;5;241m=\u001b[39m\u001b[38;5;124m\"\u001b[39m\u001b[38;5;124mtip\u001b[39m\u001b[38;5;124m\"\u001b[39m, data\u001b[38;5;241m=\u001b[39m\u001b[43mtips\u001b[49m)\n",
      "\u001b[1;31mNameError\u001b[0m: name 'tips' is not defined"
     ]
    }
   ],
   "source": [
    "sns.scatterplot(x=\"total_bill\", y=\"tip\", data=tips)"
   ]
  },
  {
   "cell_type": "code",
   "execution_count": 5,
   "id": "b8576d92-d85e-4559-a36c-655751c5ecb9",
   "metadata": {},
   "outputs": [
    {
     "ename": "NameError",
     "evalue": "name 'tips' is not defined",
     "output_type": "error",
     "traceback": [
      "\u001b[1;31m---------------------------------------------------------------------------\u001b[0m",
      "\u001b[1;31mNameError\u001b[0m                                 Traceback (most recent call last)",
      "Cell \u001b[1;32mIn[5], line 1\u001b[0m\n\u001b[1;32m----> 1\u001b[0m sns\u001b[38;5;241m.\u001b[39mscatterplot(\u001b[43mtips\u001b[49m[\u001b[38;5;124m'\u001b[39m\u001b[38;5;124mtotal_bill\u001b[39m\u001b[38;5;124m'\u001b[39m] , tips[\u001b[38;5;124m'\u001b[39m\u001b[38;5;124mtip\u001b[39m\u001b[38;5;124m'\u001b[39m] , hue \u001b[38;5;241m=\u001b[39m tips[\u001b[38;5;124m'\u001b[39m\u001b[38;5;124msex\u001b[39m\u001b[38;5;124m'\u001b[39m])\n",
      "\u001b[1;31mNameError\u001b[0m: name 'tips' is not defined"
     ]
    }
   ],
   "source": [
    "sns.scatterplot(tips['total_bill'] , tips['tip'] , hue = tips['sex'])"
   ]
  },
  {
   "cell_type": "code",
   "execution_count": null,
   "id": "5fb90e9c-b805-48fb-a065-5571da9e9478",
   "metadata": {},
   "outputs": [],
   "source": []
  }
 ],
 "metadata": {
  "kernelspec": {
   "display_name": "Python 3 (ipykernel)",
   "language": "python",
   "name": "python3"
  },
  "language_info": {
   "codemirror_mode": {
    "name": "ipython",
    "version": 3
   },
   "file_extension": ".py",
   "mimetype": "text/x-python",
   "name": "python",
   "nbconvert_exporter": "python",
   "pygments_lexer": "ipython3",
   "version": "3.12.2"
  }
 },
 "nbformat": 4,
 "nbformat_minor": 5
}
